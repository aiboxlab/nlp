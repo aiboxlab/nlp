{
 "cells": [
  {
   "cell_type": "markdown",
   "id": "6236f070-309f-439c-ad4d-176fbf3adf5b",
   "metadata": {},
   "source": [
    "# Extração de Características"
   ]
  },
  {
   "cell_type": "code",
   "execution_count": 1,
   "id": "aec014fb-8e6d-4b6b-91bf-46725e318e8e",
   "metadata": {},
   "outputs": [
    {
     "name": "stdout",
     "output_type": "stream",
     "text": [
      "WARNING: sun.reflect.Reflection.getCallerClass is not supported. This will impact performance.\n",
      "CohmetrixBR: Loading models...\n",
      "CohmetrixBR: Done\n"
     ]
    }
   ],
   "source": [
    "from nlpbox.features.agreement import AgreementExtractor\n",
    "from nlpbox.features.cohmetrix import CohMetrixExtractor\n",
    "from nlpbox.features.connectives_v2 import ConnectivesExtractorV2\n",
    "import warnings\n",
    "warnings.filterwarnings('ignore')"
   ]
  },
  {
   "cell_type": "code",
   "execution_count": 2,
   "id": "dccb0658-3dd5-4607-b58f-cbce095142d9",
   "metadata": {},
   "outputs": [],
   "source": [
    "agreement_extractor = AgreementExtractor()\n",
    "cohmetrix_extractor = CohMetrixExtractor()\n",
    "connectives_extractor = ConnectivesExtractorV2()\n",
    "sample_text = \"\"\"O poeta modernista Oswald de Andrade relata, em \"Erro de Português\", que, sob um dia de chuva, o índio foi vestido pelo português - uma denúncia à aculturação sofrida pelos povos indígenas com a chegada dos europeus ao território brasileiro. Paralelamente, no Brasil atual, há a manutenção de práticas prejudiciais não só aos silvícolas, mas também aos demais povos e comunidades tradicionais, como os pescadores. Com efeito, atuam como desafios para a valorização desses grupos a educação deficiente acerca do tema e a ausência do desenvolvimento sustentável. \n",
    "\n",
    "Diante desse cenário, existe a falta da promoção de um ensino eficiente sobre as populações tradicionais. Sob esse viés, as escolas, ao abordarem tais povos por meio de um ponto de vista histórico eurocêntrico, enraízam no imaginário estudantil a imagem de aborígenes cujas vivências são marcadas pela defasagem tecnológica. A exemplo disso, há o senso comum de que os indígenas são selvagens, alheios aos benefícios do mundo moderno, o que, consequentemente, gera um preconceito, manifestado em indagações como “o índio tem ‘smartphone’ e está lutando pela demarcação de terras?” – ideia essa que deslegitima a luta dos silvícolas. Entretanto, de acordo com a Teoria do Indigenato, defendida pelo ministro Edson Fachin, do Supremo Tribunal Federal, o direito dos povos tradicionais à terra é inato, sendo anterior, até, à criação do Estado brasileiro. Dessa forma, por não ensinarem tal visão, os colégios fometam a desvalorização das comunidades tradicionais, mediante o desenvolvimento de um pensamento discriminatório nos alunos. \n",
    "\"\"\""
   ]
  },
  {
   "cell_type": "code",
   "execution_count": 3,
   "id": "b97621c5-372f-4f5f-86f3-ce094efe56b2",
   "metadata": {},
   "outputs": [
    {
     "data": {
      "text/plain": [
       "'O poeta modernista Oswald de Andrade relata, em \"Erro de Português\", que, sob um dia de chuva, o índio foi vestido pelo português - uma denúncia à aculturação sofrida pelos povos indígenas com a chegada dos europeus ao território brasileiro. Paralelamente, no Brasil atual, há a manutenção de práticas prejudiciais não só aos silvícolas, mas também aos demais povos e comunidades tradicionais, como os pescadores. Com efeito, atuam como desafios para a valorização desses grupos a educação deficiente acerca do tema e a ausência do desenvolvimento sustentável. \\n\\nDiante desse cenário, existe a falta da promoção de um ensino eficiente sobre as populações tradicionais. Sob esse viés, as escolas, ao abordarem tais povos por meio de um ponto de vista histórico eurocêntrico, enraízam no imaginário estudantil a imagem de aborígenes cujas vivências são marcadas pela defasagem tecnológica. A exemplo disso, há o senso comum de que os indígenas são selvagens, alheios aos benefícios do mundo moderno, o que, consequentemente, gera um preconceito, manifestado em indagações como “o índio tem ‘smartphone’ e está lutando pela demarcação de terras?” – ideia essa que deslegitima a luta dos silvícolas. Entretanto, de acordo com a Teoria do Indigenato, defendida pelo ministro Edson Fachin, do Supremo Tribunal Federal, o direito dos povos tradicionais à terra é inato, sendo anterior, até, à criação do Estado brasileiro. Dessa forma, por não ensinarem tal visão, os colégios fometam a desvalorização das comunidades tradicionais, mediante o desenvolvimento de um pensamento discriminatório nos alunos. \\n'"
      ]
     },
     "execution_count": 3,
     "metadata": {},
     "output_type": "execute_result"
    }
   ],
   "source": [
    "sample_text\n",
    "# Trecho extraído de: https://vestibulares.estrategia.com/portal/materias/redacao/redacao-nota-1000-10-redacoes-ultima-edicao-enem/"
   ]
  },
  {
   "cell_type": "markdown",
   "id": "1628b41b-3141-43ea-b626-5e80d51437f6",
   "metadata": {
    "jp-MarkdownHeadingCollapsed": true
   },
   "source": [
    "## Exemplos de Extração"
   ]
  },
  {
   "cell_type": "code",
   "execution_count": 4,
   "id": "2b81ff3a-c103-4529-b97c-c46407e9fb0b",
   "metadata": {},
   "outputs": [
    {
     "data": {
      "text/plain": [
       "AgreementFeatures(verb_agreement_score=0.0, nominal_agreement_score=1.0)"
      ]
     },
     "execution_count": 4,
     "metadata": {},
     "output_type": "execute_result"
    }
   ],
   "source": [
    "agreement_extractor.extract(sample_text)"
   ]
  },
  {
   "cell_type": "code",
   "execution_count": 5,
   "id": "ce5d6ef8-566a-43d6-ba5a-6445bb2832f7",
   "metadata": {},
   "outputs": [
    {
     "data": {
      "text/plain": [
       "CohMetrixFeatures(despc=2.0, despc2=4.0, despl=2.0, despld=2.1213203435596424, dessc=8.0, dessl=31.0, dessld=11.113055385446435, deswc=287.0, deswlsy=2.073170731707317, deswlsyd=1.3479412804678697, deswllt=5.30241935483871, deswlltd=3.499031287824357, crfno1=1.0, crfao1=2.0, crfso1=2.0, crfnoa=10.0, crfaoa=13.0, crfsoa=12.0, crfcwo1=0.03838287051908186, crfcwo1d=0.02931918370363903, crfcwoa=0.03741569834765329, crfcwoad=0.03427482346166565, ldttrc=0.8617886178861789, ldttra=0.7049180327868853, ldmtlda=210.99778965765398, ldvocda=0.8944635944318958, cncadc=2.0, cncadd=6.0, cncall=4.0, cncalter=0.0, cnccaus=2.0, cnccomp=4.0, cncconce=4.0, cncconclu=0.0, cnccondi=0.0, cncconfor=3.0, cncconse=4.0, cncexpli=4.0, cncfinal=4.0, cncinte=4.0, cnclogic=6.0, cncneg=4.0, cncpos=42.0, cncprop=0.0, cnctemp=0.0, smintep=4.0, smintep_sentence=3.0, sminter=0.6, smcauswn=15.0, synle=7.2727272727272725, synnp=0.0, synmedpos=0.903987168987169, synmedlem=0.981539039039039, synmedwrd=0.9842417417417417, synstruta=0.8458929220829722, synstrutt=0.41547810704133625, drnp=0.0, drvp=8.0, drap=0.0, drpp=0.0, drpval=5.0, drneg=0.0, drgerund=1.0, drinf=0.0, wrdnoun=70.0, wrdverb=18.0, wrdadj=25.0, wrdadv=10.0, wrdpro=5.0, wrdprp1s=0.0, wrdprp1p=0.0, wrdprp2=0.0, wrdprp2s=0.0, wrdprp2p=0.0, wrdprp3s=0.0, wrdprp3p=0.0, wrdfrqc=1.0, wrdfrqa=0.0, wrdfrqmc=0.0, wrdaoac=417.25, wrdfamc=564.0175438596491, wrdcncc=301.4166666666667, wrdimgc=327.4070796460177, wrdmeac=330.4719101123595, rdfre=-17.514489107883776, rdfkgl=23.186135892116187, rdl2=8.831048808430339)"
      ]
     },
     "execution_count": 5,
     "metadata": {},
     "output_type": "execute_result"
    }
   ],
   "source": [
    "cohmetrix_extractor.extract(sample_text)"
   ]
  },
  {
   "cell_type": "code",
   "execution_count": 6,
   "id": "c0b04fc5-7a5e-4f60-bdab-01a1c07e0262",
   "metadata": {},
   "outputs": [
    {
     "data": {
      "text/plain": [
       "ConnectivesFeaturesV2(additive_neg_ratio=0.008298755186721992, additive_pos_ratio=0.029045643153526972, cause_neg_ratio=0.0, cause_pos_ratio=0.004149377593360996, log_neg_ratio=0.0, log_pos_ratio=0.0, and_ratio=0.016597510373443983, if_ratio=0.0, logic_operators_ratio=0.024896265560165973, negation_ratio=0.008298755186721992, or_ratio=0.0, all_conn_ratio=0.0912863070539419)"
      ]
     },
     "execution_count": 6,
     "metadata": {},
     "output_type": "execute_result"
    }
   ],
   "source": [
    "connectives_extractor.extract(sample_text)"
   ]
  },
  {
   "cell_type": "code",
   "execution_count": 7,
   "id": "eae88487-54f6-45f8-95de-ca4b5fcef4d3",
   "metadata": {},
   "outputs": [
    {
     "name": "stdout",
     "output_type": "stream",
     "text": [
      "{'nominal_agreement_score': 1.0, 'verb_agreement_score': 0.0}\n",
      "[1. 0.]\n",
      "tensor([1., 0.])\n"
     ]
    }
   ],
   "source": [
    "# Para qualquer extrator, podemos converter facilmente para alguns tipos de dados:\n",
    "agreement_features = agreement_extractor.extract(sample_text)\n",
    "print(agreement_features.as_dict())\n",
    "print(agreement_features.as_numpy())\n",
    "print(agreement_features.as_tensor())"
   ]
  },
  {
   "cell_type": "code",
   "execution_count": 8,
   "id": "cc9b71a8-f36d-4cb7-a616-bc0032d4a3d3",
   "metadata": {},
   "outputs": [
    {
     "name": "stdout",
     "output_type": "stream",
     "text": [
      "1.0\n",
      "0.0\n"
     ]
    }
   ],
   "source": [
    "# Também conseguis acessar cada feature individualmente\n",
    "print(agreement_features.nominal_agreement_score)\n",
    "print(agreement_features.verb_agreement_score)"
   ]
  },
  {
   "cell_type": "code",
   "execution_count": 9,
   "id": "373dea41-07c9-43cf-b8a4-58bb4f7c64bb",
   "metadata": {},
   "outputs": [
    {
     "data": {
      "text/plain": [
       "['nominal_agreement_score', 'verb_agreement_score']"
      ]
     },
     "execution_count": 9,
     "metadata": {},
     "output_type": "execute_result"
    }
   ],
   "source": [
    "# Ou obter o conjunto de features presentes\n",
    "agreement_features.names()"
   ]
  },
  {
   "cell_type": "markdown",
   "id": "cbe992c9-170f-4d33-a3ea-0eccb68df816",
   "metadata": {
    "jp-MarkdownHeadingCollapsed": true
   },
   "source": [
    "## Como podemos extrair várias features de uma vez?"
   ]
  },
  {
   "cell_type": "code",
   "execution_count": 10,
   "id": "abf79bad-1ff8-49cf-a9fa-602a9ed3b0b9",
   "metadata": {},
   "outputs": [],
   "source": [
    "from nlpbox.features.utils.aggregator import AggregatedFeatureExtractor"
   ]
  },
  {
   "cell_type": "code",
   "execution_count": 11,
   "id": "7534a3a8-6f16-4200-9ba1-536f52b5fc07",
   "metadata": {},
   "outputs": [],
   "source": [
    "extractor = AggregatedFeatureExtractor(agreement_extractor, \n",
    "                                       cohmetrix_extractor, \n",
    "                                       connectives_extractor)"
   ]
  },
  {
   "cell_type": "code",
   "execution_count": 12,
   "id": "404e7442-8756-496b-9e60-d7510213d36d",
   "metadata": {},
   "outputs": [
    {
     "data": {
      "text/plain": [
       "<nlpbox.features.utils.aggregator.AggregatedFeatures at 0x7fa7e9ab9df0>"
      ]
     },
     "execution_count": 12,
     "metadata": {},
     "output_type": "execute_result"
    }
   ],
   "source": [
    "o = extractor.extract(sample_text)\n",
    "o"
   ]
  },
  {
   "cell_type": "code",
   "execution_count": 13,
   "id": "2f9f664c-2e3a-4b8b-a472-b78c2c7a04b1",
   "metadata": {},
   "outputs": [
    {
     "data": {
      "text/plain": [
       "101"
      ]
     },
     "execution_count": 13,
     "metadata": {},
     "output_type": "execute_result"
    }
   ],
   "source": [
    "len(o.names())"
   ]
  },
  {
   "cell_type": "code",
   "execution_count": 14,
   "id": "9040275f-1af7-4472-b363-ccf49b5d01a5",
   "metadata": {},
   "outputs": [
    {
     "data": {
      "text/plain": [
       "{'additive_neg_ratio': 0.008298755186721992,\n",
       " 'additive_pos_ratio': 0.029045643153526972,\n",
       " 'all_conn_ratio': 0.0912863070539419,\n",
       " 'and_ratio': 0.016597510373443983,\n",
       " 'cause_neg_ratio': 0.0,\n",
       " 'cause_pos_ratio': 0.004149377593360996,\n",
       " 'cncadc': 2.0,\n",
       " 'cncadd': 6.0,\n",
       " 'cncall': 4.0,\n",
       " 'cncalter': 0.0,\n",
       " 'cnccaus': 2.0,\n",
       " 'cnccomp': 4.0,\n",
       " 'cncconce': 4.0,\n",
       " 'cncconclu': 0.0,\n",
       " 'cnccondi': 0.0,\n",
       " 'cncconfor': 3.0,\n",
       " 'cncconse': 4.0,\n",
       " 'cncexpli': 4.0,\n",
       " 'cncfinal': 4.0,\n",
       " 'cncinte': 4.0,\n",
       " 'cnclogic': 6.0,\n",
       " 'cncneg': 4.0,\n",
       " 'cncpos': 42.0,\n",
       " 'cncprop': 0.0,\n",
       " 'cnctemp': 0.0,\n",
       " 'crfao1': 2.0,\n",
       " 'crfaoa': 13.0,\n",
       " 'crfcwo1': 0.03838287051908186,\n",
       " 'crfcwo1d': 0.02931918370363903,\n",
       " 'crfcwoa': 0.03741569834765329,\n",
       " 'crfcwoad': 0.03427482346166565,\n",
       " 'crfno1': 1.0,\n",
       " 'crfnoa': 10.0,\n",
       " 'crfso1': 2.0,\n",
       " 'crfsoa': 12.0,\n",
       " 'despc': 2.0,\n",
       " 'despc2': 4.0,\n",
       " 'despl': 2.0,\n",
       " 'despld': 2.1213203435596424,\n",
       " 'dessc': 8.0,\n",
       " 'dessl': 31.0,\n",
       " 'dessld': 11.113055385446435,\n",
       " 'deswc': 287.0,\n",
       " 'deswllt': 5.30241935483871,\n",
       " 'deswlltd': 3.499031287824357,\n",
       " 'deswlsy': 2.073170731707317,\n",
       " 'deswlsyd': 1.3479412804678697,\n",
       " 'drap': 0.0,\n",
       " 'drgerund': 1.0,\n",
       " 'drinf': 0.0,\n",
       " 'drneg': 0.0,\n",
       " 'drnp': 0.0,\n",
       " 'drpp': 0.0,\n",
       " 'drpval': 5.0,\n",
       " 'drvp': 8.0,\n",
       " 'if_ratio': 0.0,\n",
       " 'ldmtlda': 210.99778965765398,\n",
       " 'ldttra': 0.7049180327868853,\n",
       " 'ldttrc': 0.8617886178861789,\n",
       " 'ldvocda': 0.8944635944318958,\n",
       " 'log_neg_ratio': 0.0,\n",
       " 'log_pos_ratio': 0.0,\n",
       " 'logic_operators_ratio': 0.024896265560165973,\n",
       " 'negation_ratio': 0.008298755186721992,\n",
       " 'nominal_agreement_score': 1.0,\n",
       " 'or_ratio': 0.0,\n",
       " 'rdfkgl': 23.186135892116187,\n",
       " 'rdfre': -17.514489107883776,\n",
       " 'rdl2': 8.831048808430339,\n",
       " 'smcauswn': 15.0,\n",
       " 'smintep': 4.0,\n",
       " 'smintep_sentence': 3.0,\n",
       " 'sminter': 0.6,\n",
       " 'synle': 7.2727272727272725,\n",
       " 'synmedlem': 0.981539039039039,\n",
       " 'synmedpos': 0.903987168987169,\n",
       " 'synmedwrd': 0.9842417417417417,\n",
       " 'synnp': 0.0,\n",
       " 'synstruta': 0.8458929220829722,\n",
       " 'synstrutt': 0.41547810704133625,\n",
       " 'verb_agreement_score': 0.0,\n",
       " 'wrdadj': 25.0,\n",
       " 'wrdadv': 10.0,\n",
       " 'wrdaoac': 417.25,\n",
       " 'wrdcncc': 301.4166666666667,\n",
       " 'wrdfamc': 564.0175438596491,\n",
       " 'wrdfrqa': 0.0,\n",
       " 'wrdfrqc': 1.0,\n",
       " 'wrdfrqmc': 0.0,\n",
       " 'wrdimgc': 327.4070796460177,\n",
       " 'wrdmeac': 330.4719101123595,\n",
       " 'wrdnoun': 70.0,\n",
       " 'wrdpro': 5.0,\n",
       " 'wrdprp1p': 0.0,\n",
       " 'wrdprp1s': 0.0,\n",
       " 'wrdprp2': 0.0,\n",
       " 'wrdprp2p': 0.0,\n",
       " 'wrdprp2s': 0.0,\n",
       " 'wrdprp3p': 0.0,\n",
       " 'wrdprp3s': 0.0,\n",
       " 'wrdverb': 18.0}"
      ]
     },
     "execution_count": 14,
     "metadata": {},
     "output_type": "execute_result"
    }
   ],
   "source": [
    "o.as_dict()"
   ]
  },
  {
   "cell_type": "markdown",
   "id": "cf21e94b-b6a2-43df-ac59-ce302d437c8b",
   "metadata": {},
   "source": [
    "# Criação de Pipelines"
   ]
  },
  {
   "cell_type": "code",
   "execution_count": 15,
   "id": "d9079c99-927f-4296-bf2f-0fcfb0be0694",
   "metadata": {},
   "outputs": [],
   "source": [
    "from nlpbox.core import Pipeline\n",
    "from nlpbox.estimators.sklearn_estimator import SklearnEstimator\n",
    "from nlpbox.vectorizers import FeatureExtractorVectorizer\n",
    "from nlpbox.metrics.kappa import CohensKappaScore, NeighborCohensKappaScore\n",
    "from sklearn.svm import SVC\n",
    "import numpy as np"
   ]
  },
  {
   "cell_type": "code",
   "execution_count": 16,
   "id": "3026ce08-8d52-4561-93a3-1eb4407240af",
   "metadata": {},
   "outputs": [
    {
     "name": "stdout",
     "output_type": "stream",
     "text": [
      "['Texto de número zero', 'Texto de número um', 'Texto de número um', 'Texto de número zero', 'Texto de número um', 'Texto de número um', 'Texto de número zero']\n"
     ]
    }
   ],
   "source": [
    "# Para exemplificar, vamos construir um pequeno dataset de classificaçãod\n",
    "labels = np.array([0, 1, 1, 0, 1, 1, 0])\n",
    "mapper = {0: 'zero', 1: 'um'}\n",
    "texts = [f'Texto de número {mapper[x]}' for x in labels]\n",
    "print(texts)"
   ]
  },
  {
   "cell_type": "code",
   "execution_count": 17,
   "id": "f7de5799-2dc9-4ad6-b811-d8851371264b",
   "metadata": {},
   "outputs": [],
   "source": [
    "def train_and_evaluate(pipeline: Pipeline):\n",
    "    pipeline.fit(texts, labels)\n",
    "    preds = pipeline.predict(texts)\n",
    "    kappa = CohensKappaScore()\n",
    "    neighbor_kappa = NeighborCohensKappaScore()\n",
    "    print('Labels', labels)\n",
    "    print('Predições', preds)\n",
    "    print('Kappa', kappa.compute(labels, preds))\n",
    "    print('Kappa Vizinho', neighbor_kappa.compute(labels, preds))"
   ]
  },
  {
   "cell_type": "code",
   "execution_count": 18,
   "id": "eaeb8900-3ea7-4900-a1cc-cf9bbbe36f1d",
   "metadata": {},
   "outputs": [],
   "source": [
    "pipeline = Pipeline(vectorizer=FeatureExtractorVectorizer(agreement_extractor),\n",
    "                    estimator=SklearnEstimator(SVC(random_state=42)))"
   ]
  },
  {
   "cell_type": "code",
   "execution_count": 19,
   "id": "fc0f5649-a540-455d-95a1-922e203deba6",
   "metadata": {},
   "outputs": [
    {
     "data": {
      "text/plain": [
       "{'C': 1.0,\n",
       " 'break_ties': False,\n",
       " 'cache_size': 200,\n",
       " 'class_weight': None,\n",
       " 'coef0': 0.0,\n",
       " 'decision_function_shape': 'ovr',\n",
       " 'degree': 3,\n",
       " 'gamma': 'scale',\n",
       " 'kernel': 'rbf',\n",
       " 'max_iter': -1,\n",
       " 'probability': False,\n",
       " 'random_state': None,\n",
       " 'shrinking': True,\n",
       " 'tol': 0.001,\n",
       " 'verbose': False}"
      ]
     },
     "execution_count": 19,
     "metadata": {},
     "output_type": "execute_result"
    }
   ],
   "source": [
    "pipeline.estimator.params"
   ]
  },
  {
   "cell_type": "code",
   "execution_count": 20,
   "id": "a424dc0c-91c2-41bd-b935-4785fec545d7",
   "metadata": {},
   "outputs": [
    {
     "name": "stdout",
     "output_type": "stream",
     "text": [
      "Labels [0 1 1 0 1 1 0]\n",
      "Predições [1 1 1 1 1 1 1]\n",
      "Kappa 0.0\n",
      "Kappa Vizinho 1.0\n"
     ]
    }
   ],
   "source": [
    "train_and_evaluate(pipeline)"
   ]
  },
  {
   "cell_type": "markdown",
   "id": "37388721-b4c3-4b61-93b6-c8bbb79c893d",
   "metadata": {},
   "source": [
    "# Pipelines Pré-definidas"
   ]
  },
  {
   "cell_type": "code",
   "execution_count": 21,
   "id": "effddd0c-5b37-45cd-8c48-b0420b32c173",
   "metadata": {},
   "outputs": [],
   "source": [
    "from nlpbox.pipelines.cohmetrix_extratrees import CohMetrixExtraTreesClassification\n",
    "from nlpbox.pipelines.tfidf_extratrees_classification import TFIDFExtraTreesClassification"
   ]
  },
  {
   "cell_type": "code",
   "execution_count": 22,
   "id": "4f296677-53df-48d7-94ff-74dc5ba35203",
   "metadata": {},
   "outputs": [
    {
     "name": "stdout",
     "output_type": "stream",
     "text": [
      "Labels [0 1 1 0 1 1 0]\n",
      "Predições [0 1 1 0 1 1 0]\n",
      "Kappa 1.0\n",
      "Kappa Vizinho 1.0\n"
     ]
    }
   ],
   "source": [
    "pipeline = CohMetrixExtraTreesClassification(random_state=42)\n",
    "train_and_evaluate(pipeline)"
   ]
  },
  {
   "cell_type": "code",
   "execution_count": 23,
   "id": "f2a1fb94-4013-4baf-8224-0d53e0007e61",
   "metadata": {},
   "outputs": [
    {
     "name": "stdout",
     "output_type": "stream",
     "text": [
      "Labels [0 1 1 0 1 1 0]\n",
      "Predições [0 1 1 0 1 1 0]\n",
      "Kappa 1.0\n",
      "Kappa Vizinho 1.0\n"
     ]
    }
   ],
   "source": [
    "pipeline = TFIDFExtraTreesClassification(random_state=42)\n",
    "train_and_evaluate(pipeline)"
   ]
  },
  {
   "cell_type": "code",
   "execution_count": null,
   "id": "88641d99-8992-4ca1-aa55-8ec71552b843",
   "metadata": {},
   "outputs": [],
   "source": []
  }
 ],
 "metadata": {
  "kernelspec": {
   "display_name": "Python 3 (ipykernel)",
   "language": "python",
   "name": "python3"
  },
  "language_info": {
   "codemirror_mode": {
    "name": "ipython",
    "version": 3
   },
   "file_extension": ".py",
   "mimetype": "text/x-python",
   "name": "python",
   "nbconvert_exporter": "python",
   "pygments_lexer": "ipython3",
   "version": "3.8.17"
  }
 },
 "nbformat": 4,
 "nbformat_minor": 5
}
