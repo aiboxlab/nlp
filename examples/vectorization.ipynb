{
 "cells": [
  {
   "cell_type": "markdown",
   "metadata": {},
   "source": [
    "# Vetorização de Textos\n",
    "\n",
    "A biblioteca `aibox-nlp` disponibiliza uma gama de estratégias de vetorização para o Português em seu pacote `aibox.nlp.vectorizers`. Extratores de características são uma forma de obter uma representação numérica de um texto, todavia existem outras."
   ]
  },
  {
   "cell_type": "code",
   "execution_count": null,
   "metadata": {},
   "outputs": [],
   "source": [
    "from aibox.nlp.vectorizers.tfidf_vectorizer import TFIDFVectorizer\n",
    "from aibox.nlp.vectorizers.bert_vectorizer import BertVectorizer\n",
    "from aibox.nlp.vectorizers.fasttext_word_vectorizer import FasttextWordVectorizer"
   ]
  },
  {
   "cell_type": "code",
   "execution_count": null,
   "metadata": {},
   "outputs": [],
   "source": [
    "# === Vetorização com TF-IDF ===\n",
    "# Alguns dos vetorizadores são treináveis,\n",
    "#   como o TF-IDF. Dessa forma, precisamos\n",
    "#   realizar o `fit(...)` antes de realizar\n",
    "#   qualquer vetorização de textos.\n",
    "vectorizer = TFIDFVectorizer()\n",
    "vectorizer.fit([\"O poeta modernista Oswald de Andrade relata...\"])\n",
    "vectorizer.vectorize(\"Oswaldo de Andrade\")"
   ]
  },
  {
   "cell_type": "code",
   "execution_count": null,
   "metadata": {},
   "outputs": [],
   "source": [
    "vectorizer.vectorize(\"Oswaldo de Andrade\", vector_type='torch')"
   ]
  },
  {
   "cell_type": "code",
   "execution_count": null,
   "metadata": {},
   "outputs": [],
   "source": [
    "# === Vetorização com o BERT ===\n",
    "vectorizer = BertVectorizer()\n",
    "vectorizer.vectorize(\"Oswaldo de Andrade\")"
   ]
  },
  {
   "cell_type": "code",
   "execution_count": null,
   "metadata": {},
   "outputs": [],
   "source": [
    "vectorizer.vectorize(\"Oswaldo de Andrade\", vector_type='torch')"
   ]
  },
  {
   "cell_type": "code",
   "execution_count": null,
   "metadata": {},
   "outputs": [],
   "source": [
    "# === Vetorização com FastText ===\n",
    "# Esse vetorizador produz Embeddings a nível\n",
    "#   de palavras, em contraste com BERT.\n",
    "vectorizer = FasttextWordVectorizer(language='pt', dims=50)\n",
    "vectorizer.vectorize(\"Oswaldo de Andrade\")"
   ]
  },
  {
   "cell_type": "code",
   "execution_count": null,
   "metadata": {},
   "outputs": [],
   "source": [
    "vectorizer.vectorize(\"Oswaldo de Andrade\", vector_type='torch')"
   ]
  }
 ],
 "metadata": {
  "kernelspec": {
   "display_name": ".venv",
   "language": "python",
   "name": "python3"
  },
  "language_info": {
   "codemirror_mode": {
    "name": "ipython",
    "version": 3
   },
   "file_extension": ".py",
   "mimetype": "text/x-python",
   "name": "python",
   "nbconvert_exporter": "python",
   "pygments_lexer": "ipython3",
   "version": "3.8.18"
  }
 },
 "nbformat": 4,
 "nbformat_minor": 2
}
