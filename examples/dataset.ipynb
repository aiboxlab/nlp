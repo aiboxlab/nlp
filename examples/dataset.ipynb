{
 "cells": [
  {
   "cell_type": "markdown",
   "metadata": {},
   "source": [
    "# Datasets\n",
    "\n",
    "A biblioteca `aibox-nlp` disponibiliza datasets e corpus em Português Brasileiro. Os datasets e corpus disponibilizados se encontram no pacote `aibox.nlp.data`, é possível instanciá-los diretamente através das classes."
   ]
  },
  {
   "cell_type": "code",
   "execution_count": null,
   "metadata": {},
   "outputs": [],
   "source": [
    "from aibox.nlp.data.datasets import DatasetEssayBR, DatasetPortugueseNarrativeEssays"
   ]
  },
  {
   "cell_type": "code",
   "execution_count": null,
   "metadata": {},
   "outputs": [],
   "source": [
    "# === Essay-BR ===\n",
    "ds = DatasetEssayBR(extended=False,\n",
    "                    target_competence='C1')\n",
    "ds.to_frame().head(5)"
   ]
  },
  {
   "cell_type": "code",
   "execution_count": null,
   "metadata": {},
   "outputs": [],
   "source": [
    "# === Essay-BR Estendido ===\n",
    "ds = DatasetEssayBR(extended=True,\n",
    "                    target_competence='C1')\n",
    "ds.to_frame().head(5)"
   ]
  },
  {
   "cell_type": "code",
   "execution_count": null,
   "metadata": {},
   "outputs": [],
   "source": [
    "# === Portuguese Narrative Essays ===\n",
    "ds = DatasetPortugueseNarrativeEssays(target_competence='formal_register')\n",
    "ds.to_frame().head(5)"
   ]
  },
  {
   "cell_type": "markdown",
   "metadata": {},
   "source": [
    "## Como utilizar um dataset próprio?\n",
    "\n",
    "Para utilizar um dataset próprio, só precisamos carregá-lo como um `DataFrame` e utilizar a classe `nlpbox.data.datasets.DatasetDF`."
   ]
  },
  {
   "cell_type": "code",
   "execution_count": null,
   "metadata": {},
   "outputs": [],
   "source": [
    "import pandas as pd\n",
    "from aibox.nlp.data.datasets import DatasetDF"
   ]
  },
  {
   "cell_type": "code",
   "execution_count": null,
   "metadata": {},
   "outputs": [],
   "source": [
    "# === Exemplo de um Dataset do Kaggle ===\n",
    "# https://www.kaggle.com/datasets/leandrodoze/tweets-from-mgbr?resource=download\n",
    "df = pd.read_csv('Tweets_Mg.csv')\n",
    "df.head(5)"
   ]
  },
  {
   "cell_type": "code",
   "execution_count": null,
   "metadata": {},
   "outputs": [],
   "source": [
    "# Realizando um pequeno tratamento nos dados\n",
    "df = df[['Text', 'Classificacao']].dropna()\n",
    "\n",
    "# Normalização do texto\n",
    "df['Text'] = df['Text'].str.lower()\n",
    "\n",
    "# Remoção de caracteres especiais\n",
    "df['Text'] = df['Text'].str.replace(r'[\\w]*[^\\w\\s][\\w]*',\n",
    "                                    '',\n",
    "                                    regex=True)\n",
    "\n",
    "# Removendo possíveis NA\n",
    "df = df.dropna()\n",
    "\n",
    "# Removendo duplicados\n",
    "df = df.drop_duplicates('Text')\n",
    "\n",
    "# Convertendo coluna de classificação\n",
    "df['Classificacao'] = df['Classificacao'].replace(['Positivo', 'Neutro', 'Negativo'],\n",
    "                                                  [0, 1, 2])\n",
    "\n",
    "# Exemplos\n",
    "df.head(5)"
   ]
  },
  {
   "cell_type": "code",
   "execution_count": null,
   "metadata": {},
   "outputs": [],
   "source": [
    "# === Criando Dataset ===\n",
    "ds = DatasetDF(df,\n",
    "               text_column='Text',\n",
    "               target_column='Classificacao')\n",
    "ds.to_frame().target.hist()"
   ]
  },
  {
   "cell_type": "code",
   "execution_count": null,
   "metadata": {},
   "outputs": [],
   "source": [
    "# === Obtendo splits de treino e teste ===\n",
    "train, test = ds.train_test_split(0.8, True, 42)"
   ]
  },
  {
   "cell_type": "code",
   "execution_count": null,
   "metadata": {},
   "outputs": [],
   "source": [
    "test.target.hist()"
   ]
  },
  {
   "cell_type": "code",
   "execution_count": null,
   "metadata": {},
   "outputs": [],
   "source": [
    "train.target.hist()"
   ]
  }
 ],
 "metadata": {
  "kernelspec": {
   "display_name": "Python 3 (ipykernel)",
   "language": "python",
   "name": "python3"
  },
  "language_info": {
   "codemirror_mode": {
    "name": "ipython",
    "version": 3
   },
   "file_extension": ".py",
   "mimetype": "text/x-python",
   "name": "python",
   "nbconvert_exporter": "python",
   "pygments_lexer": "ipython3",
   "version": "3.11.9"
  }
 },
 "nbformat": 4,
 "nbformat_minor": 4
}
