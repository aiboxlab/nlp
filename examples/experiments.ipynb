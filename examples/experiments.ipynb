{
 "cells": [
  {
   "cell_type": "markdown",
   "metadata": {},
   "source": [
    "# Experimentos\n",
    "\n",
    "Experimentos são a principal forma de agrupar 3 entidades:\n",
    "\n",
    "1. **Datasets**: conjunto de textos acompanhados de um *target*, representando um problema de classificação ou regressão;\n",
    "2. **Pipelines**: são capazes de receber um ou mais textos como entrada e produzir uma saída para o problema de classificação/regressão;\n",
    "3. **Métricas**: permitem avaliar o desempenho de uma ou mais pipelines para o problema em questão;\n",
    "\n",
    "A biblioteca `aibox-nlp` disponibiliza diferentes métodos para construção e execução de experimentos em seu pacote `aibox.nlp.experiments`. É possível construir um experimento instanciando cada um dos componentes individualmente ou através do pacote `aibox.nlp.factory`, que possui facilidades para obter as diversas classes da biblioteca."
   ]
  },
  {
   "cell_type": "code",
   "execution_count": 1,
   "metadata": {},
   "outputs": [],
   "source": [
    "import json\n",
    "\n",
    "import pandas as pd\n",
    "\n",
    "from aibox.nlp.factory.experiment import SimpleExperimentBuilder"
   ]
  },
  {
   "cell_type": "code",
   "execution_count": 2,
   "metadata": {},
   "outputs": [],
   "source": [
    "# === Construindo um experimento para classificação no Essay-BR ===\n",
    "# Por simplicidade, vamos instanciar um experimento\n",
    "#   para comparar algumas abordagens para classificação\n",
    "#   da competência 1 do dataset Essay-BR.\n",
    "builder = SimpleExperimentBuilder()\n",
    "\n",
    "# Inicialmente, vamos definir o dataset\n",
    "builder.dataset('essayBR',\n",
    "                extended=False,\n",
    "                target_competence='C1')\n",
    "\n",
    "# Também é possível passar uma instância\n",
    "#   de um Dataset diretamente:\n",
    "# builder.custom_dataset(ds)\n",
    "\n",
    "# Vamos definir o tipo do problema\n",
    "builder.classification()\n",
    "\n",
    "# Vamos definir a seed randômica\n",
    "builder.seed(42)\n",
    "\n",
    "# Depois, vamos definir algumas métricas\n",
    "#   que devem ser calculadas\n",
    "builder.add_metric('precision', average='weighted')\n",
    "builder.add_metric('recall', average='weighted')\n",
    "builder.add_metric('f1', average='weighted')\n",
    "builder.add_metric('kappa')\n",
    "builder.add_metric('neighborKappa')\n",
    "\n",
    "# Depois, vamos definir qual a métrica\n",
    "#   que deve ser utilizar para escolher a\n",
    "#   melhor pipeline\n",
    "builder.best_criteria('precision', average='weighted')\n",
    "\n",
    "# Agora, vamos adicionar algumas pipelines baseadas\n",
    "#   em extração de característica\n",
    "builder.add_feature_pipeline(\n",
    "    features=['readabilityBR',\n",
    "              'regencyBR',\n",
    "              'syntacticComplexityBR',\n",
    "              'textualSimplicityBR'],\n",
    "    estimators=['svm',\n",
    "                'etreesClf',\n",
    "                'lgbmClf',\n",
    "                'xgbClf'],\n",
    "    names=['svm+features',\n",
    "           'etrees+features',\n",
    "           'lgbm+features',\n",
    "           'xgb+features'])\n",
    "\n",
    "# Agora, vamos adicionar algumas pipelines baseadas\n",
    "#   em outras estratégias de vetorização\n",
    "builder.add_vectorizer_pipeline('tfidfVectorizer',\n",
    "                                estimators=['xgbClf'],\n",
    "                                names=['xgb+tfidf'],\n",
    "                                estimators_configs=[dict(n_estimators=10)])\n",
    "builder.add_feature_pipeline('bertVectorizer',\n",
    "                             estimators=['etreesClf'],\n",
    "                             names=['etrees+bert'])\n",
    "\n",
    "# Vamos aproveitar um conjunto de características\n",
    "#   pré-extraídos se ele existir:\n",
    "features = None\n",
    "try:\n",
    "    features = pd.read_csv('essay_br_features.csv')\n",
    "except Exception:\n",
    "    ...\n",
    "\n",
    "# Uma vez que tenhamos configurado o experimento,\n",
    "#   podemos obter uma instância:\n",
    "experiment = builder.build(features_df=features)"
   ]
  },
  {
   "cell_type": "code",
   "execution_count": 3,
   "metadata": {},
   "outputs": [
    {
     "name": "stderr",
     "output_type": "stream",
     "text": [
      "[INFO] [aibox.nlp.experiments.simple_experiment] Setting up experiment...\n",
      "[INFO] [aibox.nlp.experiments.simple_experiment] Obtaining train and test split...\n",
      "[INFO] [aibox.nlp.experiments.simple_experiment] Train has 3656 samples, Test has 914 samples.\n",
      "[INFO] [aibox.nlp.experiments.simple_experiment] Run started.\n",
      "[INFO] [aibox.nlp.experiments.simple_experiment] Started pipeline \"xgb+features\" (1/6)\n"
     ]
    },
    {
     "data": {
      "application/vnd.jupyter.widget-view+json": {
       "model_id": "e04412599f79453c86d4fb1eecb01038",
       "version_major": 2,
       "version_minor": 0
      },
      "text/plain": [
       "Vetorização:   0%|          | 0/3656 [00:00<?, ?it/s]"
      ]
     },
     "metadata": {},
     "output_type": "display_data"
    },
    {
     "data": {
      "application/vnd.jupyter.widget-view+json": {
       "model_id": "c6f242114b314dfa9a2071abe29468c1",
       "version_major": 2,
       "version_minor": 0
      },
      "text/plain": [
       "Vetorização:   0%|          | 0/914 [00:00<?, ?it/s]"
      ]
     },
     "metadata": {},
     "output_type": "display_data"
    },
    {
     "name": "stderr",
     "output_type": "stream",
     "text": [
      "[INFO] [aibox.nlp.experiments.simple_experiment] Started pipeline \"lgbm+features\" (2/6)\n"
     ]
    },
    {
     "data": {
      "application/vnd.jupyter.widget-view+json": {
       "model_id": "b6bb23155d5c4455b6e3929c66461d11",
       "version_major": 2,
       "version_minor": 0
      },
      "text/plain": [
       "Vetorização:   0%|          | 0/3656 [00:00<?, ?it/s]"
      ]
     },
     "metadata": {},
     "output_type": "display_data"
    },
    {
     "data": {
      "application/vnd.jupyter.widget-view+json": {
       "model_id": "7782862a03824b2cae63c0e17c5fab9e",
       "version_major": 2,
       "version_minor": 0
      },
      "text/plain": [
       "Vetorização:   0%|          | 0/914 [00:00<?, ?it/s]"
      ]
     },
     "metadata": {},
     "output_type": "display_data"
    },
    {
     "name": "stderr",
     "output_type": "stream",
     "text": [
      "[INFO] [aibox.nlp.experiments.simple_experiment] Started pipeline \"etrees+features\" (3/6)\n"
     ]
    },
    {
     "data": {
      "application/vnd.jupyter.widget-view+json": {
       "model_id": "48fe2727d3744e0bb176cf5eee50fc6b",
       "version_major": 2,
       "version_minor": 0
      },
      "text/plain": [
       "Vetorização:   0%|          | 0/3656 [00:00<?, ?it/s]"
      ]
     },
     "metadata": {},
     "output_type": "display_data"
    },
    {
     "data": {
      "application/vnd.jupyter.widget-view+json": {
       "model_id": "8b99995567fd4c4e9f01cced5b0c23fd",
       "version_major": 2,
       "version_minor": 0
      },
      "text/plain": [
       "Vetorização:   0%|          | 0/914 [00:00<?, ?it/s]"
      ]
     },
     "metadata": {},
     "output_type": "display_data"
    },
    {
     "name": "stderr",
     "output_type": "stream",
     "text": [
      "[INFO] [aibox.nlp.experiments.simple_experiment] Started pipeline \"svm+features\" (4/6)\n"
     ]
    },
    {
     "data": {
      "application/vnd.jupyter.widget-view+json": {
       "model_id": "18412a4b3ee14a4ba679c901b8e87356",
       "version_major": 2,
       "version_minor": 0
      },
      "text/plain": [
       "Vetorização:   0%|          | 0/3656 [00:00<?, ?it/s]"
      ]
     },
     "metadata": {},
     "output_type": "display_data"
    },
    {
     "data": {
      "application/vnd.jupyter.widget-view+json": {
       "model_id": "11effd5866764405bb98ddfa66e92b67",
       "version_major": 2,
       "version_minor": 0
      },
      "text/plain": [
       "Vetorização:   0%|          | 0/914 [00:00<?, ?it/s]"
      ]
     },
     "metadata": {},
     "output_type": "display_data"
    },
    {
     "name": "stderr",
     "output_type": "stream",
     "text": [
      "[INFO] [aibox.nlp.experiments.simple_experiment] Started pipeline \"etrees+bert\" (5/6)\n"
     ]
    },
    {
     "data": {
      "application/vnd.jupyter.widget-view+json": {
       "model_id": "6dbe697576294651965eef43e087c06a",
       "version_major": 2,
       "version_minor": 0
      },
      "text/plain": [
       "Vetorização:   0%|          | 0/3656 [00:00<?, ?it/s]"
      ]
     },
     "metadata": {},
     "output_type": "display_data"
    },
    {
     "data": {
      "application/vnd.jupyter.widget-view+json": {
       "model_id": "944ab894d14640b5b5ad05994a743524",
       "version_major": 2,
       "version_minor": 0
      },
      "text/plain": [
       "Vetorização:   0%|          | 0/914 [00:00<?, ?it/s]"
      ]
     },
     "metadata": {},
     "output_type": "display_data"
    },
    {
     "name": "stderr",
     "output_type": "stream",
     "text": [
      "[INFO] [aibox.nlp.experiments.simple_experiment] Started pipeline \"xgb+tfidf\" (6/6)\n"
     ]
    },
    {
     "data": {
      "application/vnd.jupyter.widget-view+json": {
       "model_id": "6502ff1a5ff84cbdbc54ec8d0034bdf5",
       "version_major": 2,
       "version_minor": 0
      },
      "text/plain": [
       "Vetorização:   0%|          | 0/3656 [00:00<?, ?it/s]"
      ]
     },
     "metadata": {},
     "output_type": "display_data"
    },
    {
     "data": {
      "application/vnd.jupyter.widget-view+json": {
       "model_id": "4b8bf825af29425a908ba2f2cc70bed1",
       "version_major": 2,
       "version_minor": 0
      },
      "text/plain": [
       "Vetorização:   0%|          | 0/914 [00:00<?, ?it/s]"
      ]
     },
     "metadata": {},
     "output_type": "display_data"
    },
    {
     "name": "stderr",
     "output_type": "stream",
     "text": [
      "[INFO] [aibox.nlp.experiments.simple_experiment] Run finished in 227.15 seconds.\n",
      "Best pipeline: etrees+bert\n"
     ]
    }
   ],
   "source": [
    "# === Executando o experimento ===\n",
    "result = experiment.run()"
   ]
  },
  {
   "cell_type": "code",
   "execution_count": 4,
   "metadata": {},
   "outputs": [
    {
     "data": {
      "text/plain": [
       "'etrees+bert'"
      ]
     },
     "execution_count": 4,
     "metadata": {},
     "output_type": "execute_result"
    }
   ],
   "source": [
    "# === Inspecionando os resultados ===\n",
    "# Podemos obter o nome da melhor pipeline:\n",
    "result.best_pipeline.name"
   ]
  },
  {
   "cell_type": "code",
   "execution_count": 5,
   "metadata": {},
   "outputs": [
    {
     "name": "stdout",
     "output_type": "stream",
     "text": [
      "{\n",
      "  \"Weighted Precision\": 0.6471781134605408,\n",
      "  \"Weighted Recall\": 0.6794310808181763,\n",
      "  \"Weighted F1-score\": 0.6248169541358948,\n",
      "  \"Kappa\": 0.3376352787017822,\n",
      "  \"Neighbor Kappa\": 0.3376352787017822\n",
      "}\n"
     ]
    }
   ],
   "source": [
    "# Também podemos listar o valor das melhores métricas:\n",
    "print(json.dumps({k: v.tolist() for k, v in result.best_metrics.items()},\n",
    "                 indent=2,\n",
    "                 ensure_ascii=False))"
   ]
  },
  {
   "cell_type": "code",
   "execution_count": 6,
   "metadata": {},
   "outputs": [
    {
     "name": "stdout",
     "output_type": "stream",
     "text": [
      "{\n",
      "  \"xgb+features\": {\n",
      "    \"Weighted Precision\": 0.4791104793548584,\n",
      "    \"Weighted Recall\": 0.550328254699707,\n",
      "    \"Weighted F1-score\": 0.500983476638794,\n",
      "    \"Kappa\": 0.09217804670333862,\n",
      "    \"Neighbor Kappa\": 0.09217804670333862\n",
      "  },\n",
      "  \"lgbm+features\": {\n",
      "    \"Weighted Precision\": 0.49731308221817017,\n",
      "    \"Weighted Recall\": 0.5689277648925781,\n",
      "    \"Weighted F1-score\": 0.5195298194885254,\n",
      "    \"Kappa\": 0.12839876115322113,\n",
      "    \"Neighbor Kappa\": 0.12839876115322113\n",
      "  },\n",
      "  \"etrees+features\": {\n",
      "    \"Weighted Precision\": 0.48885378241539,\n",
      "    \"Weighted Recall\": 0.5831509828567505,\n",
      "    \"Weighted F1-score\": 0.49162736535072327,\n",
      "    \"Kappa\": 0.08026918023824692,\n",
      "    \"Neighbor Kappa\": 0.08026918023824692\n",
      "  },\n",
      "  \"svm+features\": {\n",
      "    \"Weighted Precision\": 0.33119142055511475,\n",
      "    \"Weighted Recall\": 0.5754923224449158,\n",
      "    \"Weighted F1-score\": 0.42042914032936096,\n",
      "    \"Kappa\": 0.0,\n",
      "    \"Neighbor Kappa\": 0.0\n",
      "  },\n",
      "  \"etrees+bert\": {\n",
      "    \"Weighted Precision\": 0.6471781134605408,\n",
      "    \"Weighted Recall\": 0.6794310808181763,\n",
      "    \"Weighted F1-score\": 0.6248169541358948,\n",
      "    \"Kappa\": 0.3376352787017822,\n",
      "    \"Neighbor Kappa\": 0.3376352787017822\n",
      "  },\n",
      "  \"xgb+tfidf\": {\n",
      "    \"Weighted Precision\": 0.6381391286849976,\n",
      "    \"Weighted Recall\": 0.6728665232658386,\n",
      "    \"Weighted F1-score\": 0.6209207773208618,\n",
      "    \"Kappa\": 0.322015643119812,\n",
      "    \"Neighbor Kappa\": 0.322015643119812\n",
      "  }\n",
      "}\n"
     ]
    }
   ],
   "source": [
    "# Também podemos listar o valor de todas as métricas calculadas:\n",
    "print(json.dumps({k: {k_: v_.tolist() for k_, v_ in v.items()} \n",
    "                  for k, v in result.metrics_history.items()},\n",
    "                 indent=2,\n",
    "                 ensure_ascii=False))"
   ]
  },
  {
   "cell_type": "code",
   "execution_count": 7,
   "metadata": {},
   "outputs": [
    {
     "data": {
      "text/html": [
       "<div>\n",
       "<style scoped>\n",
       "    .dataframe tbody tr th:only-of-type {\n",
       "        vertical-align: middle;\n",
       "    }\n",
       "\n",
       "    .dataframe tbody tr th {\n",
       "        vertical-align: top;\n",
       "    }\n",
       "\n",
       "    .dataframe thead th {\n",
       "        text-align: right;\n",
       "    }\n",
       "</style>\n",
       "<table border=\"1\" class=\"dataframe\">\n",
       "  <thead>\n",
       "    <tr style=\"text-align: right;\">\n",
       "      <th></th>\n",
       "      <th>text</th>\n",
       "      <th>adapted_dalechall</th>\n",
       "      <th>adverbs_before_main_verb_ratio</th>\n",
       "      <th>brunet_indice</th>\n",
       "      <th>clauses_per_sentence</th>\n",
       "      <th>coord_conj_ratio</th>\n",
       "      <th>coordinate_conjunctions_per_clauses</th>\n",
       "      <th>dialog_pron_ratio</th>\n",
       "      <th>easy_conj_ratio</th>\n",
       "      <th>flesch_indice</th>\n",
       "      <th>...</th>\n",
       "      <th>sentences_with_5_clauses</th>\n",
       "      <th>sentences_with_6_clauses</th>\n",
       "      <th>sentences_with_7_clauses</th>\n",
       "      <th>short_sentence_ratio</th>\n",
       "      <th>simple_word_ratio</th>\n",
       "      <th>std_noun_phrase</th>\n",
       "      <th>subord_conj_ratio</th>\n",
       "      <th>token_var_idx</th>\n",
       "      <th>verb_regency_score</th>\n",
       "      <th>words_before_main_verb</th>\n",
       "    </tr>\n",
       "  </thead>\n",
       "  <tbody>\n",
       "    <tr>\n",
       "      <th>0</th>\n",
       "      <td>Apropriação cultural significa uma pessoa pode...</td>\n",
       "      <td>4.680675</td>\n",
       "      <td>0.352941</td>\n",
       "      <td>10.521848</td>\n",
       "      <td>2.428571</td>\n",
       "      <td>0.500000</td>\n",
       "      <td>0.235294</td>\n",
       "      <td>0.333333</td>\n",
       "      <td>0.237762</td>\n",
       "      <td>61.266434</td>\n",
       "      <td>...</td>\n",
       "      <td>0</td>\n",
       "      <td>0</td>\n",
       "      <td>0</td>\n",
       "      <td>0.285714</td>\n",
       "      <td>0.0</td>\n",
       "      <td>0.641128</td>\n",
       "      <td>0.500000</td>\n",
       "      <td>58.289064</td>\n",
       "      <td>1.0</td>\n",
       "      <td>2</td>\n",
       "    </tr>\n",
       "    <tr>\n",
       "      <th>1</th>\n",
       "      <td>A desigualdade social é um problema que afeta ...</td>\n",
       "      <td>4.744804</td>\n",
       "      <td>0.115385</td>\n",
       "      <td>11.063507</td>\n",
       "      <td>2.363636</td>\n",
       "      <td>0.600000</td>\n",
       "      <td>0.346154</td>\n",
       "      <td>0.000000</td>\n",
       "      <td>0.296610</td>\n",
       "      <td>35.633213</td>\n",
       "      <td>...</td>\n",
       "      <td>2</td>\n",
       "      <td>0</td>\n",
       "      <td>0</td>\n",
       "      <td>0.000000</td>\n",
       "      <td>0.0</td>\n",
       "      <td>0.916888</td>\n",
       "      <td>0.400000</td>\n",
       "      <td>63.981432</td>\n",
       "      <td>0.5</td>\n",
       "      <td>5</td>\n",
       "    </tr>\n",
       "    <tr>\n",
       "      <th>2</th>\n",
       "      <td>Hoje dependemos igualmente da qualidade de ens...</td>\n",
       "      <td>4.831121</td>\n",
       "      <td>0.900000</td>\n",
       "      <td>10.022355</td>\n",
       "      <td>2.500000</td>\n",
       "      <td>0.666667</td>\n",
       "      <td>0.400000</td>\n",
       "      <td>0.000000</td>\n",
       "      <td>0.273684</td>\n",
       "      <td>39.499276</td>\n",
       "      <td>...</td>\n",
       "      <td>0</td>\n",
       "      <td>0</td>\n",
       "      <td>0</td>\n",
       "      <td>0.000000</td>\n",
       "      <td>0.0</td>\n",
       "      <td>0.749943</td>\n",
       "      <td>0.333333</td>\n",
       "      <td>50.838519</td>\n",
       "      <td>1.0</td>\n",
       "      <td>1</td>\n",
       "    </tr>\n",
       "  </tbody>\n",
       "</table>\n",
       "<p>3 rows × 34 columns</p>\n",
       "</div>"
      ],
      "text/plain": [
       "                                                text  adapted_dalechall  \\\n",
       "0  Apropriação cultural significa uma pessoa pode...           4.680675   \n",
       "1  A desigualdade social é um problema que afeta ...           4.744804   \n",
       "2  Hoje dependemos igualmente da qualidade de ens...           4.831121   \n",
       "\n",
       "   adverbs_before_main_verb_ratio  brunet_indice  clauses_per_sentence  \\\n",
       "0                        0.352941      10.521848              2.428571   \n",
       "1                        0.115385      11.063507              2.363636   \n",
       "2                        0.900000      10.022355              2.500000   \n",
       "\n",
       "   coord_conj_ratio  coordinate_conjunctions_per_clauses  dialog_pron_ratio  \\\n",
       "0          0.500000                             0.235294           0.333333   \n",
       "1          0.600000                             0.346154           0.000000   \n",
       "2          0.666667                             0.400000           0.000000   \n",
       "\n",
       "   easy_conj_ratio  flesch_indice  ...  sentences_with_5_clauses  \\\n",
       "0         0.237762      61.266434  ...                         0   \n",
       "1         0.296610      35.633213  ...                         2   \n",
       "2         0.273684      39.499276  ...                         0   \n",
       "\n",
       "   sentences_with_6_clauses  sentences_with_7_clauses  short_sentence_ratio  \\\n",
       "0                         0                         0              0.285714   \n",
       "1                         0                         0              0.000000   \n",
       "2                         0                         0              0.000000   \n",
       "\n",
       "   simple_word_ratio  std_noun_phrase  subord_conj_ratio  token_var_idx  \\\n",
       "0                0.0         0.641128           0.500000      58.289064   \n",
       "1                0.0         0.916888           0.400000      63.981432   \n",
       "2                0.0         0.749943           0.333333      50.838519   \n",
       "\n",
       "   verb_regency_score  words_before_main_verb  \n",
       "0                 1.0                       2  \n",
       "1                 0.5                       5  \n",
       "2                 1.0                       1  \n",
       "\n",
       "[3 rows x 34 columns]"
      ]
     },
     "execution_count": 7,
     "metadata": {},
     "output_type": "execute_result"
    }
   ],
   "source": [
    "# Por último, também é possível recuperar um DataFrame com as características\n",
    "#   extraídas para os textos do dataset.\n",
    "result.extras.df_features.head(3)"
   ]
  },
  {
   "cell_type": "code",
   "execution_count": null,
   "metadata": {},
   "outputs": [],
   "source": [
    "result.extras.df_features.to_csv('essay_br_features.csv', index=False)"
   ]
  }
 ],
 "metadata": {
  "kernelspec": {
   "display_name": ".venv",
   "language": "python",
   "name": "python3"
  },
  "language_info": {
   "codemirror_mode": {
    "name": "ipython",
    "version": 3
   },
   "file_extension": ".py",
   "mimetype": "text/x-python",
   "name": "python",
   "nbconvert_exporter": "python",
   "pygments_lexer": "ipython3",
   "version": "3.8.18"
  },
  "orig_nbformat": 4
 },
 "nbformat": 4,
 "nbformat_minor": 2
}
