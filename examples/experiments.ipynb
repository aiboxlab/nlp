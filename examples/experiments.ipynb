{
 "cells": [
  {
   "cell_type": "markdown",
   "metadata": {},
   "source": [
    "# Experimentos\n",
    "\n",
    "Experimentos são a principal forma de agrupar 3 entidades:\n",
    "\n",
    "1. **Datasets**: conjunto de textos acompanhados de um *target*, representando um problema de classificação ou regressão;\n",
    "2. **Pipelines**: são capazes de receber um ou mais textos como entrada e produzir uma saída para o problema de classificação/regressão;\n",
    "3. **Métricas**: permitem avaliar o desempenho de uma ou mais pipelines para o problema em questão;\n",
    "\n",
    "A biblioteca `nlpbox` disponibiliza diferentes métodos para construção e execução de experimentos em seu pacote `nlpbox.experiments`. É possível construir um experimento instanciando cada um dos componentes individualmente ou através do pacote `nlpbox.factory`, que possui facilidades para obter as diversas classes da biblioteca."
   ]
  },
  {
   "cell_type": "code",
   "execution_count": 1,
   "metadata": {},
   "outputs": [],
   "source": [
    "import json\n",
    "\n",
    "from nlpbox.factory.experiment import SimpleExperimentBuilder"
   ]
  },
  {
   "cell_type": "code",
   "execution_count": 2,
   "metadata": {},
   "outputs": [
    {
     "name": "stderr",
     "output_type": "stream",
     "text": [
      "INFO:sentence_transformers.SentenceTransformer:Use pytorch device: cuda\n"
     ]
    }
   ],
   "source": [
    "# === Construindo um experimento para classificação no Essay-BR ===\n",
    "# Por simplicidade, vamos instanciar um experimento\n",
    "#   para comparar algumas abordagens para classificação\n",
    "#   da competência 1 do dataset Essay-BR.\n",
    "builder = SimpleExperimentBuilder()\n",
    "\n",
    "# Inicialmente, vamos definir o dataset\n",
    "builder.dataset('essayBR',\n",
    "                extended=False,\n",
    "                target_competence='C1')\n",
    "\n",
    "# Vamos definir o tipo do problema\n",
    "builder.classification()\n",
    "\n",
    "# Vamos definir a seed randômica\n",
    "builder.seed(42)\n",
    "\n",
    "# Depois, vamos definir algumas métricas\n",
    "#   que devem ser calculadas\n",
    "builder.add_metric('precision', average='weighted')\n",
    "builder.add_metric('recall', average='weighted')\n",
    "builder.add_metric('f1', average='weighted')\n",
    "builder.add_metric('kappa')\n",
    "builder.add_metric('neighborKappa')\n",
    "\n",
    "# Depois, vamos definir qual a métrica\n",
    "#   que deve ser utilizar para escolher a\n",
    "#   melhor pipeline\n",
    "builder.best_criteria('precision', average='weighted')\n",
    "\n",
    "# Agora, vamos adicionar algumas pipelines baseadas\n",
    "#   em extração de característica\n",
    "builder.add_feature_pipeline(\n",
    "    features=['readabilityBR',\n",
    "              'regencyBR',\n",
    "              'syntacticComplexityBR',\n",
    "              'textualSimplicityBR'],\n",
    "    estimators=['svm',\n",
    "                'etreesClf',\n",
    "                'lgbmClf',\n",
    "                'xgbClf'],\n",
    "    names=['svm+features',\n",
    "           'etrees+features',\n",
    "           'lgbm+features',\n",
    "           'xgb+features'])\n",
    "\n",
    "# Agora, vamos adicionar algumas pipelines baseadas\n",
    "#   em outras estratégias de vetorização\n",
    "builder.add_vectorizer_pipeline('tfidfVectorizer',\n",
    "                                estimators=['xgbClf'],\n",
    "                                names=['xgb+tfidf'])\n",
    "builder.add_feature_pipeline('bertVectorizer',\n",
    "                             estimators=['etreesClf'],\n",
    "                             names=['etrees+bert'])\n",
    "\n",
    "# Uma vez que tenhamos configurado o experimento,\n",
    "#   podemos obter uma instância:\n",
    "experiment = builder.build()"
   ]
  },
  {
   "cell_type": "code",
   "execution_count": 3,
   "metadata": {},
   "outputs": [
    {
     "name": "stderr",
     "output_type": "stream",
     "text": [
      "INFO:nlpbox.experiments.simple_experiment:Setting up experiment...\n",
      "INFO:nlpbox.experiments.simple_experiment:Obtaining train and test split...\n",
      "INFO:nlpbox.experiments.simple_experiment:Train has 3656 samples, Test has 914 samples.\n",
      "INFO:nlpbox.experiments.simple_experiment:Run started.\n",
      "INFO:nlpbox.experiments.simple_experiment:Started pipeline \"svm+features\" (1/6)\n"
     ]
    },
    {
     "data": {
      "application/vnd.jupyter.widget-view+json": {
       "model_id": "30df5f2f7af24c51b8cd4cc2b5cfdf10",
       "version_major": 2,
       "version_minor": 0
      },
      "text/plain": [
       "Vetorização:   0%|          | 0/3656 [00:00<?, ?it/s]"
      ]
     },
     "metadata": {},
     "output_type": "display_data"
    },
    {
     "data": {
      "application/vnd.jupyter.widget-view+json": {
       "model_id": "39d7f293466046bfbaacf26dd172031c",
       "version_major": 2,
       "version_minor": 0
      },
      "text/plain": [
       "Vetorização:   0%|          | 0/914 [00:00<?, ?it/s]"
      ]
     },
     "metadata": {},
     "output_type": "display_data"
    },
    {
     "name": "stderr",
     "output_type": "stream",
     "text": [
      "INFO:nlpbox.experiments.simple_experiment:Started pipeline \"etrees+features\" (2/6)\n"
     ]
    },
    {
     "data": {
      "application/vnd.jupyter.widget-view+json": {
       "model_id": "552a5fb7477740c4bff185cd5f2e50a8",
       "version_major": 2,
       "version_minor": 0
      },
      "text/plain": [
       "Vetorização:   0%|          | 0/3656 [00:00<?, ?it/s]"
      ]
     },
     "metadata": {},
     "output_type": "display_data"
    },
    {
     "data": {
      "application/vnd.jupyter.widget-view+json": {
       "model_id": "5a1e4ebfa70443599b966540f81f5f01",
       "version_major": 2,
       "version_minor": 0
      },
      "text/plain": [
       "Vetorização:   0%|          | 0/914 [00:00<?, ?it/s]"
      ]
     },
     "metadata": {},
     "output_type": "display_data"
    },
    {
     "name": "stderr",
     "output_type": "stream",
     "text": [
      "INFO:nlpbox.experiments.simple_experiment:Started pipeline \"lgbm+features\" (3/6)\n"
     ]
    },
    {
     "data": {
      "application/vnd.jupyter.widget-view+json": {
       "model_id": "2d33d26ec16f49d1ba8b5522299113d1",
       "version_major": 2,
       "version_minor": 0
      },
      "text/plain": [
       "Vetorização:   0%|          | 0/3656 [00:00<?, ?it/s]"
      ]
     },
     "metadata": {},
     "output_type": "display_data"
    },
    {
     "data": {
      "application/vnd.jupyter.widget-view+json": {
       "model_id": "2a327b365937484a9b88ee5d43ebc152",
       "version_major": 2,
       "version_minor": 0
      },
      "text/plain": [
       "Vetorização:   0%|          | 0/914 [00:00<?, ?it/s]"
      ]
     },
     "metadata": {},
     "output_type": "display_data"
    },
    {
     "name": "stderr",
     "output_type": "stream",
     "text": [
      "INFO:nlpbox.experiments.simple_experiment:Started pipeline \"xgb+features\" (4/6)\n"
     ]
    },
    {
     "data": {
      "application/vnd.jupyter.widget-view+json": {
       "model_id": "4165d8a5bab64d9397f4185b8afb381c",
       "version_major": 2,
       "version_minor": 0
      },
      "text/plain": [
       "Vetorização:   0%|          | 0/3656 [00:00<?, ?it/s]"
      ]
     },
     "metadata": {},
     "output_type": "display_data"
    },
    {
     "data": {
      "application/vnd.jupyter.widget-view+json": {
       "model_id": "a8bb90c08143461fbe3e67a6f7576d25",
       "version_major": 2,
       "version_minor": 0
      },
      "text/plain": [
       "Vetorização:   0%|          | 0/914 [00:00<?, ?it/s]"
      ]
     },
     "metadata": {},
     "output_type": "display_data"
    },
    {
     "name": "stderr",
     "output_type": "stream",
     "text": [
      "INFO:nlpbox.experiments.simple_experiment:Started pipeline \"xgb+tfidf\" (5/6)\n"
     ]
    },
    {
     "data": {
      "application/vnd.jupyter.widget-view+json": {
       "model_id": "0aa0c8cb8793479bb4659c52e031cf8e",
       "version_major": 2,
       "version_minor": 0
      },
      "text/plain": [
       "Vetorização:   0%|          | 0/3656 [00:00<?, ?it/s]"
      ]
     },
     "metadata": {},
     "output_type": "display_data"
    },
    {
     "data": {
      "application/vnd.jupyter.widget-view+json": {
       "model_id": "7ca4b7591a1d4fafa3f20c27e99ec22d",
       "version_major": 2,
       "version_minor": 0
      },
      "text/plain": [
       "Vetorização:   0%|          | 0/914 [00:00<?, ?it/s]"
      ]
     },
     "metadata": {},
     "output_type": "display_data"
    },
    {
     "name": "stderr",
     "output_type": "stream",
     "text": [
      "INFO:nlpbox.experiments.simple_experiment:Started pipeline \"etrees+bert\" (6/6)\n"
     ]
    },
    {
     "data": {
      "application/vnd.jupyter.widget-view+json": {
       "model_id": "49047098c0a548f6ab7cdbf18a879918",
       "version_major": 2,
       "version_minor": 0
      },
      "text/plain": [
       "Vetorização:   0%|          | 0/3656 [00:00<?, ?it/s]"
      ]
     },
     "metadata": {},
     "output_type": "display_data"
    },
    {
     "data": {
      "application/vnd.jupyter.widget-view+json": {
       "model_id": "ee879c16e8b947f3af12c4aec1bd1adf",
       "version_major": 2,
       "version_minor": 0
      },
      "text/plain": [
       "Vetorização:   0%|          | 0/914 [00:00<?, ?it/s]"
      ]
     },
     "metadata": {},
     "output_type": "display_data"
    },
    {
     "name": "stderr",
     "output_type": "stream",
     "text": [
      "INFO:nlpbox.experiments.simple_experiment:Run finished in 1283.30 seconds.\n",
      "Best pipeline: etrees+bert\n"
     ]
    }
   ],
   "source": [
    "# === Executando o experimento ===\n",
    "result = experiment.run()"
   ]
  },
  {
   "cell_type": "code",
   "execution_count": 8,
   "metadata": {},
   "outputs": [
    {
     "data": {
      "text/plain": [
       "'etrees+bert'"
      ]
     },
     "execution_count": 8,
     "metadata": {},
     "output_type": "execute_result"
    }
   ],
   "source": [
    "# === Inspecionando os resultados ===\n",
    "# Podemos obter o nome da melhor pipeline:\n",
    "result.best_pipeline_name"
   ]
  },
  {
   "cell_type": "code",
   "execution_count": 9,
   "metadata": {},
   "outputs": [
    {
     "name": "stdout",
     "output_type": "stream",
     "text": [
      "{\n",
      "  \"Weighted Precision\": 0.6654836535453796,\n",
      "  \"Weighted Recall\": 0.6892778873443604,\n",
      "  \"Weighted F1-score\": 0.6349939107894897,\n",
      "  \"Kappa\": 0.35971346497535706,\n",
      "  \"Neighbor Kappa\": 0.35971346497535706\n",
      "}\n"
     ]
    }
   ],
   "source": [
    "# Também podemos listar o valor das melhores métricas:\n",
    "print(json.dumps({k: v.tolist() for k, v in result.best_metrics.items()},\n",
    "                 indent=2,\n",
    "                 ensure_ascii=False))"
   ]
  },
  {
   "cell_type": "code",
   "execution_count": 21,
   "metadata": {},
   "outputs": [
    {
     "name": "stdout",
     "output_type": "stream",
     "text": [
      "{\n",
      "  \"svm+features\": {\n",
      "    \"Weighted Precision\": 0.33119142055511475,\n",
      "    \"Weighted Recall\": 0.5754923224449158,\n",
      "    \"Weighted F1-score\": 0.42042914032936096,\n",
      "    \"Kappa\": 0.0,\n",
      "    \"Neighbor Kappa\": 0.0\n",
      "  },\n",
      "  \"etrees+features\": {\n",
      "    \"Weighted Precision\": 0.4847065210342407,\n",
      "    \"Weighted Recall\": 0.5809627771377563,\n",
      "    \"Weighted F1-score\": 0.4975183606147766,\n",
      "    \"Kappa\": 0.08787188678979874,\n",
      "    \"Neighbor Kappa\": 0.08787188678979874\n",
      "  },\n",
      "  \"lgbm+features\": {\n",
      "    \"Weighted Precision\": 0.49731308221817017,\n",
      "    \"Weighted Recall\": 0.5689277648925781,\n",
      "    \"Weighted F1-score\": 0.5195298194885254,\n",
      "    \"Kappa\": 0.12839876115322113,\n",
      "    \"Neighbor Kappa\": 0.12839876115322113\n",
      "  },\n",
      "  \"xgb+features\": {\n",
      "    \"Weighted Precision\": 0.4791104793548584,\n",
      "    \"Weighted Recall\": 0.550328254699707,\n",
      "    \"Weighted F1-score\": 0.500983476638794,\n",
      "    \"Kappa\": 0.09217804670333862,\n",
      "    \"Neighbor Kappa\": 0.09217804670333862\n",
      "  },\n",
      "  \"xgb+tfidf\": {\n",
      "    \"Weighted Precision\": 0.6343432664871216,\n",
      "    \"Weighted Recall\": 0.6750547289848328,\n",
      "    \"Weighted F1-score\": 0.6334039568901062,\n",
      "    \"Kappa\": 0.3515748679637909,\n",
      "    \"Neighbor Kappa\": 0.3515748679637909\n",
      "  },\n",
      "  \"etrees+bert\": {\n",
      "    \"Weighted Precision\": 0.6654836535453796,\n",
      "    \"Weighted Recall\": 0.6892778873443604,\n",
      "    \"Weighted F1-score\": 0.6349939107894897,\n",
      "    \"Kappa\": 0.35971346497535706,\n",
      "    \"Neighbor Kappa\": 0.35971346497535706\n",
      "  }\n",
      "}\n"
     ]
    }
   ],
   "source": [
    "# Também podemos listar o valor de todas as métricas calculadas:\n",
    "print(json.dumps({k: {k_: v_.tolist() for k_, v_ in v.items()} \n",
    "                  for k, v in result.metrics_history.items()},\n",
    "                 indent=2,\n",
    "                 ensure_ascii=False))"
   ]
  },
  {
   "cell_type": "code",
   "execution_count": 19,
   "metadata": {},
   "outputs": [
    {
     "data": {
      "text/html": [
       "<div>\n",
       "<style scoped>\n",
       "    .dataframe tbody tr th:only-of-type {\n",
       "        vertical-align: middle;\n",
       "    }\n",
       "\n",
       "    .dataframe tbody tr th {\n",
       "        vertical-align: top;\n",
       "    }\n",
       "\n",
       "    .dataframe thead th {\n",
       "        text-align: right;\n",
       "    }\n",
       "</style>\n",
       "<table border=\"1\" class=\"dataframe\">\n",
       "  <thead>\n",
       "    <tr style=\"text-align: right;\">\n",
       "      <th></th>\n",
       "      <th>text</th>\n",
       "      <th>adapted_dalechall</th>\n",
       "      <th>adverbs_before_main_verb_ratio</th>\n",
       "      <th>brunet_indice</th>\n",
       "      <th>clauses_per_sentence</th>\n",
       "      <th>coord_conj_ratio</th>\n",
       "      <th>coordinate_conjunctions_per_clauses</th>\n",
       "      <th>dialog_pron_ratio</th>\n",
       "      <th>easy_conj_ratio</th>\n",
       "      <th>flesch_indice</th>\n",
       "      <th>...</th>\n",
       "      <th>sentences_with_5_clauses</th>\n",
       "      <th>sentences_with_6_clauses</th>\n",
       "      <th>sentences_with_7_clauses</th>\n",
       "      <th>short_sentence_ratio</th>\n",
       "      <th>simple_word_ratio</th>\n",
       "      <th>std_noun_phrase</th>\n",
       "      <th>subord_conj_ratio</th>\n",
       "      <th>token_var_idx</th>\n",
       "      <th>verb_regency_score</th>\n",
       "      <th>words_before_main_verb</th>\n",
       "    </tr>\n",
       "  </thead>\n",
       "  <tbody>\n",
       "    <tr>\n",
       "      <th>0</th>\n",
       "      <td>Apropriação cultural significa uma pessoa pode...</td>\n",
       "      <td>4.680675</td>\n",
       "      <td>0.352941</td>\n",
       "      <td>10.521848</td>\n",
       "      <td>2.428571</td>\n",
       "      <td>0.500000</td>\n",
       "      <td>0.235294</td>\n",
       "      <td>0.333333</td>\n",
       "      <td>0.237762</td>\n",
       "      <td>61.266434</td>\n",
       "      <td>...</td>\n",
       "      <td>0</td>\n",
       "      <td>0</td>\n",
       "      <td>0</td>\n",
       "      <td>0.285714</td>\n",
       "      <td>0.0</td>\n",
       "      <td>0.641128</td>\n",
       "      <td>0.500000</td>\n",
       "      <td>58.289064</td>\n",
       "      <td>1.0</td>\n",
       "      <td>2</td>\n",
       "    </tr>\n",
       "    <tr>\n",
       "      <th>1</th>\n",
       "      <td>A desigualdade social é um problema que afeta ...</td>\n",
       "      <td>4.744804</td>\n",
       "      <td>0.115385</td>\n",
       "      <td>11.063507</td>\n",
       "      <td>2.363636</td>\n",
       "      <td>0.600000</td>\n",
       "      <td>0.346154</td>\n",
       "      <td>0.000000</td>\n",
       "      <td>0.296610</td>\n",
       "      <td>35.633213</td>\n",
       "      <td>...</td>\n",
       "      <td>2</td>\n",
       "      <td>0</td>\n",
       "      <td>0</td>\n",
       "      <td>0.000000</td>\n",
       "      <td>0.0</td>\n",
       "      <td>0.916888</td>\n",
       "      <td>0.400000</td>\n",
       "      <td>63.981432</td>\n",
       "      <td>0.5</td>\n",
       "      <td>5</td>\n",
       "    </tr>\n",
       "    <tr>\n",
       "      <th>2</th>\n",
       "      <td>Hoje dependemos igualmente da qualidade de ens...</td>\n",
       "      <td>4.831121</td>\n",
       "      <td>0.900000</td>\n",
       "      <td>10.022355</td>\n",
       "      <td>2.500000</td>\n",
       "      <td>0.666667</td>\n",
       "      <td>0.400000</td>\n",
       "      <td>0.000000</td>\n",
       "      <td>0.273684</td>\n",
       "      <td>39.499276</td>\n",
       "      <td>...</td>\n",
       "      <td>0</td>\n",
       "      <td>0</td>\n",
       "      <td>0</td>\n",
       "      <td>0.000000</td>\n",
       "      <td>0.0</td>\n",
       "      <td>0.749943</td>\n",
       "      <td>0.333333</td>\n",
       "      <td>50.838519</td>\n",
       "      <td>1.0</td>\n",
       "      <td>1</td>\n",
       "    </tr>\n",
       "  </tbody>\n",
       "</table>\n",
       "<p>3 rows × 34 columns</p>\n",
       "</div>"
      ],
      "text/plain": [
       "                                                text  adapted_dalechall  \\\n",
       "0  Apropriação cultural significa uma pessoa pode...           4.680675   \n",
       "1  A desigualdade social é um problema que afeta ...           4.744804   \n",
       "2  Hoje dependemos igualmente da qualidade de ens...           4.831121   \n",
       "\n",
       "   adverbs_before_main_verb_ratio  brunet_indice  clauses_per_sentence  \\\n",
       "0                        0.352941      10.521848              2.428571   \n",
       "1                        0.115385      11.063507              2.363636   \n",
       "2                        0.900000      10.022355              2.500000   \n",
       "\n",
       "   coord_conj_ratio  coordinate_conjunctions_per_clauses  dialog_pron_ratio  \\\n",
       "0          0.500000                             0.235294           0.333333   \n",
       "1          0.600000                             0.346154           0.000000   \n",
       "2          0.666667                             0.400000           0.000000   \n",
       "\n",
       "   easy_conj_ratio  flesch_indice  ...  sentences_with_5_clauses  \\\n",
       "0         0.237762      61.266434  ...                         0   \n",
       "1         0.296610      35.633213  ...                         2   \n",
       "2         0.273684      39.499276  ...                         0   \n",
       "\n",
       "   sentences_with_6_clauses  sentences_with_7_clauses  short_sentence_ratio  \\\n",
       "0                         0                         0              0.285714   \n",
       "1                         0                         0              0.000000   \n",
       "2                         0                         0              0.000000   \n",
       "\n",
       "   simple_word_ratio  std_noun_phrase  subord_conj_ratio  token_var_idx  \\\n",
       "0                0.0         0.641128           0.500000      58.289064   \n",
       "1                0.0         0.916888           0.400000      63.981432   \n",
       "2                0.0         0.749943           0.333333      50.838519   \n",
       "\n",
       "   verb_regency_score  words_before_main_verb  \n",
       "0                 1.0                       2  \n",
       "1                 0.5                       5  \n",
       "2                 1.0                       1  \n",
       "\n",
       "[3 rows x 34 columns]"
      ]
     },
     "execution_count": 19,
     "metadata": {},
     "output_type": "execute_result"
    }
   ],
   "source": [
    "# Por último, também é possível recuperar um DataFrame com as características\n",
    "#   extraídas para os textos do dataset.\n",
    "result.extras.df_features.head(3)"
   ]
  }
 ],
 "metadata": {
  "kernelspec": {
   "display_name": ".venv",
   "language": "python",
   "name": "python3"
  },
  "language_info": {
   "codemirror_mode": {
    "name": "ipython",
    "version": 3
   },
   "file_extension": ".py",
   "mimetype": "text/x-python",
   "name": "python",
   "nbconvert_exporter": "python",
   "pygments_lexer": "ipython3",
   "version": "3.8.18"
  },
  "orig_nbformat": 4
 },
 "nbformat": 4,
 "nbformat_minor": 2
}
