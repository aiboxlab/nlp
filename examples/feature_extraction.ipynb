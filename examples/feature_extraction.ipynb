{
 "cells": [
  {
   "cell_type": "markdown",
   "metadata": {},
   "source": [
    "# Extração de Características\n",
    "\n",
    "A biblioteca `aibox-nlp` disponibiliza uma gama de características textuais para o Português em seu pacote `aibox.nlp.features`. Para utilizar completamente as características, é necessário instalar as dependências opcionais:\n",
    "\n",
    "```bash\n",
    "# Configuração do ambiente virtual...\n",
    "$ python -m venv .venv\n",
    "$ source .venv/bin/activate\n",
    "\n",
    "# Instalando as dependências opcionais com o pip\n",
    "$ pip install .[BR]\n",
    "```\n",
    "\n",
    "Para realizar obter os extratores, é possível instanciá-los diretamente ou utilizar o pacote `aibox.nlp.factory`, que possui facilidades para obter as diversas classes da biblioteca."
   ]
  },
  {
   "cell_type": "code",
   "execution_count": 1,
   "metadata": {},
   "outputs": [],
   "source": [
    "import json\n",
    "\n",
    "from aibox.nlp.factory import get_extractor"
   ]
  },
  {
   "cell_type": "code",
   "execution_count": 2,
   "metadata": {},
   "outputs": [
    {
     "name": "stdout",
     "output_type": "stream",
     "text": [
      "{\n",
      "  \"adapted_dalechall\": 5.104267829457364,\n",
      "  \"brunet_indice\": 9.066469756208491,\n",
      "  \"flesch_indice\": 30.863914728682204,\n",
      "  \"gunning_fox_indice\": 11.606201550387597,\n",
      "  \"honore_statistics\": 1373.4939003829327,\n",
      "  \"readibility_indice\": 18.04158914728682,\n",
      "  \"token_var_idx\": 105.73048512895602\n",
      "}\n"
     ]
    }
   ],
   "source": [
    "# === Obtendo um único extrator ===\n",
    "readability_extractor = get_extractor(['readabilityBR'])\n",
    "extraction = readability_extractor.extract(\"O poeta modernista Oswald de Andrade relata, em \\\"Erro de Português\\\", que, sob um dia de chuva, o índio foi vestido pelo português - uma denúncia à aculturação sofrida pelos povos indígenas com a chegada dos europeus ao território brasileiro. Paralelamente, no Brasil atual, há a manutenção de práticas prejudiciais não só aos silvícolas, mas também aos demais povos e comunidades tradicionais, como os pescadores. Com efeito, atuam como desafios para a valorização desses grupos a educação deficiente acerca do tema e a ausência do desenvolvimento sustentável.\")\n",
    "\n",
    "print(json.dumps(extraction.as_dict(), indent=2, ensure_ascii=False))"
   ]
  },
  {
   "cell_type": "code",
   "execution_count": 3,
   "metadata": {},
   "outputs": [
    {
     "data": {
      "text/plain": [
       "array([   5.1042676,    9.06647  ,   30.863914 ,   11.606201 ,\n",
       "       1373.4939   ,   18.04159  ,  105.730484 ], dtype=float32)"
      ]
     },
     "execution_count": 3,
     "metadata": {},
     "output_type": "execute_result"
    }
   ],
   "source": [
    "# Também podemos obter os resultados da extração\n",
    "#   como NumPy arrays e Tensores do Torch.\n",
    "# Em ambos os casos, as características seguem a ordem\n",
    "#   lexicográfica.\n",
    "extraction.as_numpy()"
   ]
  },
  {
   "cell_type": "code",
   "execution_count": 4,
   "metadata": {},
   "outputs": [
    {
     "data": {
      "text/plain": [
       "tensor([   5.1043,    9.0665,   30.8639,   11.6062, 1373.4939,   18.0416,\n",
       "         105.7305])"
      ]
     },
     "execution_count": 4,
     "metadata": {},
     "output_type": "execute_result"
    }
   ],
   "source": [
    "extraction.as_tensor()"
   ]
  },
  {
   "cell_type": "code",
   "execution_count": 5,
   "metadata": {},
   "outputs": [
    {
     "name": "stdout",
     "output_type": "stream",
     "text": [
      "{\n",
      "  \"adapted_dalechall\": 5.104267829457364,\n",
      "  \"adverbs_before_main_verb_ratio\": 0.25,\n",
      "  \"brunet_indice\": 9.066469756208491,\n",
      "  \"clauses_per_sentence\": 1.3333333333333333,\n",
      "  \"coord_conj_ratio\": 1.0,\n",
      "  \"coordinate_conjunctions_per_clauses\": 0.75,\n",
      "  \"dialog_pron_ratio\": 0,\n",
      "  \"easy_conj_ratio\": 0.12790697674418605,\n",
      "  \"flesch_indice\": 30.863914728682204,\n",
      "  \"gunning_fox_indice\": 11.606201550387597,\n",
      "  \"hard_conj_ratio\": 0.023255813953488372,\n",
      "  \"honore_statistics\": 1373.4939003829327,\n",
      "  \"infinite_subordinate_clauses\": 0.3333333333333333,\n",
      "  \"long_sentence_ratio\": 1.0,\n",
      "  \"medium_long_sentence_ratio\": 0.0,\n",
      "  \"medium_short_sentence_ratio\": 0.0,\n",
      "  \"nominal_regency_score\": 1.0,\n",
      "  \"passive_ratio\": 0.5,\n",
      "  \"readibility_indice\": 18.04158914728682,\n",
      "  \"sentences_with_1_clauses\": 2,\n",
      "  \"sentences_with_2_clauses\": 1,\n",
      "  \"sentences_with_3_clauses\": 0,\n",
      "  \"sentences_with_4_clauses\": 0,\n",
      "  \"sentences_with_5_clauses\": 0,\n",
      "  \"sentences_with_6_clauses\": 0,\n",
      "  \"sentences_with_7_clauses\": 0,\n",
      "  \"short_sentence_ratio\": 0.0,\n",
      "  \"simple_word_ratio\": 0.0,\n",
      "  \"std_noun_phrase\": 1.1930353445448851,\n",
      "  \"subord_conj_ratio\": 0.0,\n",
      "  \"token_var_idx\": 105.73048512895602,\n",
      "  \"verb_regency_score\": 1.0,\n",
      "  \"words_before_main_verb\": 6\n",
      "}\n"
     ]
    }
   ],
   "source": [
    "# === Extraindo múltiplas características de uma vez ===\n",
    "readability_extractor = get_extractor(['readabilityBR', \n",
    "                                       'regencyBR', \n",
    "                                       'syntacticComplexityBR',\n",
    "                                       'textualSimplicityBR'])\n",
    "extraction = readability_extractor.extract(\"O poeta modernista Oswald de Andrade relata, em \\\"Erro de Português\\\", que, sob um dia de chuva, o índio foi vestido pelo português - uma denúncia à aculturação sofrida pelos povos indígenas com a chegada dos europeus ao território brasileiro. Paralelamente, no Brasil atual, há a manutenção de práticas prejudiciais não só aos silvícolas, mas também aos demais povos e comunidades tradicionais, como os pescadores. Com efeito, atuam como desafios para a valorização desses grupos a educação deficiente acerca do tema e a ausência do desenvolvimento sustentável.\")\n",
    "\n",
    "print(json.dumps(extraction.as_dict(), indent=2, ensure_ascii=False))"
   ]
  },
  {
   "cell_type": "code",
   "execution_count": 6,
   "metadata": {},
   "outputs": [
    {
     "data": {
      "text/plain": [
       "array([5.10426760e+00, 2.50000000e-01, 9.06647015e+00, 1.33333337e+00,\n",
       "       1.00000000e+00, 7.50000000e-01, 0.00000000e+00, 1.27906978e-01,\n",
       "       3.08639145e+01, 1.16062012e+01, 2.32558139e-02, 1.37349390e+03,\n",
       "       3.33333343e-01, 1.00000000e+00, 0.00000000e+00, 0.00000000e+00,\n",
       "       1.00000000e+00, 5.00000000e-01, 1.80415897e+01, 2.00000000e+00,\n",
       "       1.00000000e+00, 0.00000000e+00, 0.00000000e+00, 0.00000000e+00,\n",
       "       0.00000000e+00, 0.00000000e+00, 0.00000000e+00, 0.00000000e+00,\n",
       "       1.19303536e+00, 0.00000000e+00, 1.05730484e+02, 1.00000000e+00,\n",
       "       6.00000000e+00], dtype=float32)"
      ]
     },
     "execution_count": 6,
     "metadata": {},
     "output_type": "execute_result"
    }
   ],
   "source": [
    "extraction.as_numpy()"
   ]
  },
  {
   "cell_type": "code",
   "execution_count": 7,
   "metadata": {},
   "outputs": [
    {
     "data": {
      "text/plain": [
       "tensor([5.1043e+00, 2.5000e-01, 9.0665e+00, 1.3333e+00, 1.0000e+00, 7.5000e-01,\n",
       "        0.0000e+00, 1.2791e-01, 3.0864e+01, 1.1606e+01, 2.3256e-02, 1.3735e+03,\n",
       "        3.3333e-01, 1.0000e+00, 0.0000e+00, 0.0000e+00, 1.0000e+00, 5.0000e-01,\n",
       "        1.8042e+01, 2.0000e+00, 1.0000e+00, 0.0000e+00, 0.0000e+00, 0.0000e+00,\n",
       "        0.0000e+00, 0.0000e+00, 0.0000e+00, 0.0000e+00, 1.1930e+00, 0.0000e+00,\n",
       "        1.0573e+02, 1.0000e+00, 6.0000e+00])"
      ]
     },
     "execution_count": 7,
     "metadata": {},
     "output_type": "execute_result"
    }
   ],
   "source": [
    "extraction.as_tensor()"
   ]
  }
 ],
 "metadata": {
  "kernelspec": {
   "display_name": ".venv",
   "language": "python",
   "name": "python3"
  },
  "language_info": {
   "codemirror_mode": {
    "name": "ipython",
    "version": 3
   },
   "file_extension": ".py",
   "mimetype": "text/x-python",
   "name": "python",
   "nbconvert_exporter": "python",
   "pygments_lexer": "ipython3",
   "version": "3.8.18"
  },
  "orig_nbformat": 4
 },
 "nbformat": 4,
 "nbformat_minor": 2
}
