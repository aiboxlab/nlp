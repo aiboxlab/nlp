{
 "cells": [
  {
   "cell_type": "markdown",
   "metadata": {},
   "source": [
    "# Extração de Características\n",
    "\n",
    "A biblioteca `aibox-nlp` disponibiliza uma gama de características textuais para o Português em seu pacote `aibox.nlp.features`. Para utilizar completamente as características, é necessário instalar as dependências opcionais:\n",
    "\n",
    "```bash\n",
    "# Configuração do ambiente virtual...\n",
    "$ python -m venv .venv\n",
    "$ source .venv/bin/activate\n",
    "\n",
    "# Instalando as dependências opcionais com o pip\n",
    "$ pip install .[BR]\n",
    "```\n",
    "\n",
    "Para realizar obter os extratores, é possível instanciá-los diretamente ou utilizar o pacote `aibox.nlp.factory`, que possui facilidades para obter as diversas classes da biblioteca."
   ]
  },
  {
   "cell_type": "code",
   "execution_count": null,
   "metadata": {},
   "outputs": [],
   "source": [
    "import json\n",
    "\n",
    "from aibox.nlp.factory import get_extractor"
   ]
  },
  {
   "cell_type": "code",
   "execution_count": null,
   "metadata": {},
   "outputs": [],
   "source": [
    "# === Obtendo um único extrator ===\n",
    "readability_extractor = get_extractor(['readabilityBR'])\n",
    "extraction = readability_extractor.extract(\"O poeta modernista Oswald de Andrade relata, em \\\"Erro de Português\\\", que, sob um dia de chuva, o índio foi vestido pelo português - uma denúncia à aculturação sofrida pelos povos indígenas com a chegada dos europeus ao território brasileiro. Paralelamente, no Brasil atual, há a manutenção de práticas prejudiciais não só aos silvícolas, mas também aos demais povos e comunidades tradicionais, como os pescadores. Com efeito, atuam como desafios para a valorização desses grupos a educação deficiente acerca do tema e a ausência do desenvolvimento sustentável.\")\n",
    "\n",
    "print(json.dumps(extraction.as_dict(), indent=2, ensure_ascii=False))"
   ]
  },
  {
   "cell_type": "code",
   "execution_count": null,
   "metadata": {},
   "outputs": [],
   "source": [
    "# Também podemos obter os resultados da extração\n",
    "#   como NumPy arrays e Tensores do Torch.\n",
    "# Em ambos os casos, as características seguem a ordem\n",
    "#   lexicográfica.\n",
    "extraction.as_numpy()"
   ]
  },
  {
   "cell_type": "code",
   "execution_count": null,
   "metadata": {},
   "outputs": [],
   "source": [
    "extraction.as_tensor()"
   ]
  },
  {
   "cell_type": "code",
   "execution_count": null,
   "metadata": {},
   "outputs": [],
   "source": [
    "# === Extraindo múltiplas características de uma vez ===\n",
    "readability_extractor = get_extractor(['readabilityBR', \n",
    "                                       'regencyBR', \n",
    "                                       'syntacticComplexityBR',\n",
    "                                       'textualSimplicityBR'])\n",
    "extraction = readability_extractor.extract(\"O poeta modernista Oswald de Andrade relata, em \\\"Erro de Português\\\", que, sob um dia de chuva, o índio foi vestido pelo português - uma denúncia à aculturação sofrida pelos povos indígenas com a chegada dos europeus ao território brasileiro. Paralelamente, no Brasil atual, há a manutenção de práticas prejudiciais não só aos silvícolas, mas também aos demais povos e comunidades tradicionais, como os pescadores. Com efeito, atuam como desafios para a valorização desses grupos a educação deficiente acerca do tema e a ausência do desenvolvimento sustentável.\")\n",
    "\n",
    "print(json.dumps(extraction.as_dict(), indent=2, ensure_ascii=False))"
   ]
  },
  {
   "cell_type": "code",
   "execution_count": null,
   "metadata": {},
   "outputs": [],
   "source": [
    "extraction.as_numpy()"
   ]
  },
  {
   "cell_type": "code",
   "execution_count": null,
   "metadata": {},
   "outputs": [],
   "source": [
    "extraction.as_tensor()"
   ]
  }
 ],
 "metadata": {
  "kernelspec": {
   "display_name": ".venv",
   "language": "python",
   "name": "python3"
  },
  "language_info": {
   "codemirror_mode": {
    "name": "ipython",
    "version": 3
   },
   "file_extension": ".py",
   "mimetype": "text/x-python",
   "name": "python",
   "nbconvert_exporter": "python",
   "pygments_lexer": "ipython3",
   "version": "3.8.18"
  }
 },
 "nbformat": 4,
 "nbformat_minor": 2
}
